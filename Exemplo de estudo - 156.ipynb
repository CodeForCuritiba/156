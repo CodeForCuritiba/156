{
 "cells": [
  {
   "cell_type": "markdown",
   "metadata": {
    "slideshow": {
     "slide_type": "slide"
    }
   },
   "source": [
    "# Curitiba - Base do 156\n",
    "\n",
    "Este é um modelo de iPython notebook que trata os dados do Curitiba 156. Este conterá algumas funcionalidades e visa servir como ponto de partida para quaisquer outras análises de dados."
   ]
  },
  {
   "cell_type": "code",
   "execution_count": 1,
   "metadata": {
    "ExecuteTime": {
     "end_time": "2020-02-28T01:58:05.142385Z",
     "start_time": "2020-02-28T01:58:04.636665Z"
    }
   },
   "outputs": [],
   "source": [
    "import qgrid\n",
    "\n",
    "import pandas as pd\n",
    "import matplotlib.pyplot as plt\n",
    "\n",
    "from curitiba_dados_abertos.datasources import DS156"
   ]
  },
  {
   "cell_type": "markdown",
   "metadata": {},
   "source": [
    "# Leitura dos dados\n",
    "Nesse momento os dados são importados por meio da biblioteca `curitiba-dados-abertos`, disponível no PyPI, onde ele trata de realizar todas as chamadas relativas ao datasource escolhido. No exemplo acima, usamos a base de dados do 156 (DS-156)"
   ]
  },
  {
   "cell_type": "code",
   "execution_count": 2,
   "metadata": {
    "ExecuteTime": {
     "end_time": "2020-02-28T01:58:05.198717Z",
     "start_time": "2020-02-28T01:58:05.147999Z"
    }
   },
   "outputs": [
    {
     "data": {
      "text/plain": [
       "{'title': '156',\n",
       " 'responsible_organization': 'Governo Municipal',\n",
       " 'latest_csv_url': 'http://dadosabertos.c3sl.ufpr.br/curitiba/156//2020-02-01_156_-_Base_de_Dados.csv'}"
      ]
     },
     "execution_count": 2,
     "metadata": {},
     "output_type": "execute_result"
    }
   ],
   "source": [
    "ds156 = DS156()  #Instancia o elemento DS156\n",
    "\n",
    "ds156.get_info()"
   ]
  },
  {
   "cell_type": "markdown",
   "metadata": {},
   "source": [
    "A Função abaixo importa o dataframe direto no Pandas. Ele faz o download da base de dados, e já o carrega prontamente. Este pode receber um parâmetro `date_prefix` onde o mesmo recebe uma data no formato disponibilizado pelo portal da transparência. Caso esse parâmetro seja `None` o mesmo fará o download do último arquivo disponibilizado. \n",
    "\n",
    "A listagem dos itens disponíveis pode ser acessível por meio do método `ds156.list_available_items()`."
   ]
  },
  {
   "cell_type": "code",
   "execution_count": 3,
   "metadata": {
    "ExecuteTime": {
     "end_time": "2020-02-28T01:58:06.353927Z",
     "start_time": "2020-02-28T01:58:05.201784Z"
    }
   },
   "outputs": [],
   "source": [
    "data = ds156.get_pandas_dataframe(date_prefix=None)"
   ]
  },
  {
   "cell_type": "code",
   "execution_count": 4,
   "metadata": {
    "ExecuteTime": {
     "end_time": "2020-02-28T01:58:06.409431Z",
     "start_time": "2020-02-28T01:58:06.355473Z"
    },
    "scrolled": true
   },
   "outputs": [
    {
     "data": {
      "text/plain": [
       "['2016-09-01',\n",
       " '2016-10-01',\n",
       " '2016-11-01',\n",
       " '2016-12-01',\n",
       " '2017-01-01',\n",
       " '2017-02-01',\n",
       " '2017-03-01',\n",
       " '2017-04-01',\n",
       " '2017-06-01',\n",
       " '2017-07-01',\n",
       " '2017-08-01',\n",
       " '2017-09-01',\n",
       " '2017-10-01',\n",
       " '2017-11-01',\n",
       " '2017-12-01',\n",
       " '2018-01-01',\n",
       " '2018-02-01',\n",
       " '2018-03-01',\n",
       " '2018-04-01',\n",
       " '2018-04-26',\n",
       " '2018-05-01',\n",
       " '2018-06-01',\n",
       " '2018-07-01',\n",
       " '2018-08-01',\n",
       " '2018-09-01',\n",
       " '2018-10-01',\n",
       " '2018-11-01',\n",
       " '2018-12-01',\n",
       " '2019-01-01',\n",
       " '2019-02-01',\n",
       " '2019-03-01',\n",
       " '2019-04-01',\n",
       " '2019-05-01',\n",
       " '2019-07-01',\n",
       " '2019-08-01',\n",
       " '2019-09-01',\n",
       " '2019-10-01',\n",
       " '2019-11-01',\n",
       " '2019-12-01',\n",
       " '2020-01-01',\n",
       " '2020-02-01']"
      ]
     },
     "execution_count": 4,
     "metadata": {},
     "output_type": "execute_result"
    }
   ],
   "source": [
    "ds156.list_available_items()"
   ]
  },
  {
   "cell_type": "markdown",
   "metadata": {},
   "source": [
    "# Apresentação dos dados\n",
    "Nesse momento o dataset foi minimamente limpo e já está pronto para utilização. Os dados para limpeza dos dados se encontram na seguinte URL [](https://github.com/CodeForCuritiba/curitiba-dados-abertos/blob/master/curitiba_dados_abertos/datasources/ds_156.py#L9-L15)\n",
    "\n",
    "Agora será realizado tarefas de seleção de pedaços do dataset.\n",
    "\n",
    "## Dado separado por assunto"
   ]
  },
  {
   "cell_type": "code",
   "execution_count": 5,
   "metadata": {
    "ExecuteTime": {
     "end_time": "2020-02-28T01:58:06.454333Z",
     "start_time": "2020-02-28T01:58:06.411187Z"
    }
   },
   "outputs": [
    {
     "data": {
      "application/vnd.jupyter.widget-view+json": {
       "model_id": "aeba40e6be604c07a8fcb705216f0f9c",
       "version_major": 2,
       "version_minor": 0
      },
      "text/plain": [
       "QgridWidget(grid_options={'fullWidthRows': True, 'syncColumnCellResize': True, 'forceFitColumns': True, 'defau…"
      ]
     },
     "metadata": {},
     "output_type": "display_data"
    }
   ],
   "source": [
    "data_assunto = data[['ASSUNTO']].groupby(['ASSUNTO']).size().reset_index(name='counts').sort_values(['counts'], ascending=False)\n",
    "qgrid.show_grid(data_assunto, show_toolbar=True)"
   ]
  },
  {
   "cell_type": "markdown",
   "metadata": {},
   "source": [
    "## Organização por tipo de órgão\n"
   ]
  },
  {
   "cell_type": "code",
   "execution_count": 6,
   "metadata": {
    "ExecuteTime": {
     "end_time": "2020-02-28T01:58:06.501516Z",
     "start_time": "2020-02-28T01:58:06.456207Z"
    },
    "scrolled": true
   },
   "outputs": [
    {
     "data": {
      "application/vnd.jupyter.widget-view+json": {
       "model_id": "4b452cc7e9844ee7b46325bbf6813195",
       "version_major": 2,
       "version_minor": 0
      },
      "text/plain": [
       "QgridWidget(grid_options={'fullWidthRows': True, 'syncColumnCellResize': True, 'forceFitColumns': True, 'defau…"
      ]
     },
     "metadata": {},
     "output_type": "display_data"
    }
   ],
   "source": [
    "data_orgaos = data[['ORGAO']].groupby(['ORGAO']).size().reset_index(name='counts').sort_values(['counts'], ascending=False)\n",
    "qgrid.show_grid(data_orgaos)"
   ]
  },
  {
   "cell_type": "markdown",
   "metadata": {},
   "source": [
    "# Visualização do Grid inteiro"
   ]
  },
  {
   "cell_type": "code",
   "execution_count": 9,
   "metadata": {
    "ExecuteTime": {
     "end_time": "2020-02-28T01:58:28.869245Z",
     "start_time": "2020-02-28T01:58:28.682431Z"
    },
    "scrolled": true
   },
   "outputs": [
    {
     "data": {
      "application/vnd.jupyter.widget-view+json": {
       "model_id": "e3e9d50fa7dd4c45aa2244e7380b815e",
       "version_major": 2,
       "version_minor": 0
      },
      "text/plain": [
       "QgridWidget(grid_options={'fullWidthRows': True, 'syncColumnCellResize': True, 'forceFitColumns': True, 'defau…"
      ]
     },
     "metadata": {},
     "output_type": "display_data"
    }
   ],
   "source": [
    "qgrid.show_grid(data, show_toolbar=True)"
   ]
  },
  {
   "cell_type": "markdown",
   "metadata": {},
   "source": [
    "## Gráfico de solicitação por Bairro"
   ]
  },
  {
   "cell_type": "code",
   "execution_count": 18,
   "metadata": {
    "ExecuteTime": {
     "end_time": "2020-02-28T02:00:33.407593Z",
     "start_time": "2020-02-28T02:00:33.240052Z"
    }
   },
   "outputs": [
    {
     "data": {
      "image/png": "[encoded data removed]",
      "text/plain": [
       "<Figure size 1296x288 with 1 Axes>"
      ]
     },
     "metadata": {
      "needs_background": "light"
     },
     "output_type": "display_data"
    }
   ],
   "source": [
    "data_top_bairros = data.groupby('BAIRRO_ASS')['BAIRRO_ASS'] \\\n",
    "                    .count().reset_index(name='count') \\\n",
    "                    .sort_values(['count'], ascending=False).head(8)\n",
    "\n",
    "plt.figure(figsize=(18,4))\n",
    "plt.bar(data_top_bairros['BAIRRO_ASS'], data_top_bairros['count'], align='center', alpha=0.5)\n",
    "\n",
    "for a,b in zip(data_top_bairros['BAIRRO_ASS'], data_top_bairros['count']):\n",
    "    plt.text(a, b, str(b))\n",
    "\n",
    "plt.show()"
   ]
  },
  {
   "cell_type": "code",
   "execution_count": null,
   "metadata": {},
   "outputs": [],
   "source": []
  }
 ],
 "metadata": {
  "kernelspec": {
   "display_name": "Python 3",
   "language": "python",
   "name": "python3"
  },
  "language_info": {
   "codemirror_mode": {
    "name": "ipython",
    "version": 3
   },
   "file_extension": ".py",
   "mimetype": "text/x-python",
   "name": "python",
   "nbconvert_exporter": "python",
   "pygments_lexer": "ipython3",
   "version": "3.7.4"
  }
 },
 "nbformat": 4,
 "nbformat_minor": 4
}
