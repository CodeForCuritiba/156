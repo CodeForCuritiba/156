{
 "cells": [
  {
   "cell_type": "code",
   "execution_count": null,
   "metadata": {},
   "outputs": [],
   "source": []
  },
  {
   "cell_type": "code",
   "execution_count": 7,
   "metadata": {},
   "outputs": [
    {
     "name": "stdout",
     "output_type": "stream",
     "text": [
      "Fetching latest base of 156...\n",
      "Latest csv url: http://dadosabertos.c3sl.ufpr.br/curitiba/156/2019-12-01_156_-_Base_de_Dados.csv\n",
      "Downloading File...\n",
      "File Already exists!\n",
      "No download needed.\n",
      "File source_data/base156.csv; Encoding: ISO-8859-1\n"
     ]
    }
   ],
   "source": [
    "from app import get_downloaded_base156\n",
    "\n",
    "import pandas as pd\n",
    "import qgrid\n",
    "\n",
    "csv_file, csv_encoding = get_downloaded_base156()"
   ]
  },
  {
   "cell_type": "code",
   "execution_count": 5,
   "metadata": {},
   "outputs": [],
   "source": [
    "field_names = ['SOLICITACAO', 'TIPO', 'ORGAO', 'DATA',\n",
    "               'HORARIO', 'ASSUNTO', 'SUBDIVISAO', 'DESCRICAO',\n",
    "               'LOGRADOURO_ASS', 'BAIRRO_ASS', 'REGIONAL_ASS',\n",
    "               'MEIO_RESPOSTA', 'OBSERVACAO', 'SEXO', 'BAIRRO_CIDADAO',\n",
    "               'REGIONAL_CIDADAO', 'DATA_NASC', 'TIPO_CIDADAO',\n",
    "               'ORGAO_RESP', 'RESPOSTA_FINAL', 'RESPOSTA_FINAL_DETALHE']\n",
    "\n",
    "data = pd.read_csv(csv_file, sep=';', encoding=csv_encoding, error_bad_lines=False, skiprows=[0,1], \n",
    "                   names=field_names)"
   ]
  },
  {
   "cell_type": "code",
   "execution_count": 9,
   "metadata": {},
   "outputs": [
    {
     "data": {
      "application/vnd.jupyter.widget-view+json": {
       "model_id": "6d76f47aac0144dbbec904e142a92ecd",
       "version_major": 2,
       "version_minor": 0
      },
      "text/plain": [
       "QgridWidget(grid_options={'fullWidthRows': True, 'syncColumnCellResize': True, 'forceFitColumns': True, 'defau…"
      ]
     },
     "metadata": {},
     "output_type": "display_data"
    }
   ],
   "source": [
    "qgrid.show_grid(data)"
   ]
  },
  {
   "cell_type": "code",
   "execution_count": 11,
   "metadata": {
    "scrolled": false
   },
   "outputs": [
    {
     "data": {
      "text/html": [
       "<div>\n",
       "<style scoped>\n",
       "    .dataframe tbody tr th:only-of-type {\n",
       "        vertical-align: middle;\n",
       "    }\n",
       "\n",
       "    .dataframe tbody tr th {\n",
       "        vertical-align: top;\n",
       "    }\n",
       "\n",
       "    .dataframe thead th {\n",
       "        text-align: right;\n",
       "    }\n",
       "</style>\n",
       "<table border=\"1\" class=\"dataframe\">\n",
       "  <thead>\n",
       "    <tr style=\"text-align: right;\">\n",
       "      <th></th>\n",
       "      <th>ORGAO</th>\n",
       "      <th>counts</th>\n",
       "    </tr>\n",
       "  </thead>\n",
       "  <tbody>\n",
       "    <tr>\n",
       "      <th>0</th>\n",
       "      <td>FUNDAÇÃO DE AÇÃO SOCIAL</td>\n",
       "      <td>167</td>\n",
       "    </tr>\n",
       "    <tr>\n",
       "      <th>1</th>\n",
       "      <td>INSTITUTO DAS CIDADES INTELIGENTES</td>\n",
       "      <td>21840</td>\n",
       "    </tr>\n",
       "    <tr>\n",
       "      <th>2</th>\n",
       "      <td>SECRETARIA DO GOVERNO MUNICIPAL</td>\n",
       "      <td>85</td>\n",
       "    </tr>\n",
       "    <tr>\n",
       "      <th>3</th>\n",
       "      <td>SECRETARIA MUNICIPAL DA SAÚDE</td>\n",
       "      <td>56</td>\n",
       "    </tr>\n",
       "    <tr>\n",
       "      <th>4</th>\n",
       "      <td>SECRETARIA MUNICIPAL DE OBRAS PÚBLICAS</td>\n",
       "      <td>1</td>\n",
       "    </tr>\n",
       "    <tr>\n",
       "      <th>5</th>\n",
       "      <td>SECRETARIA MUNICIPAL DO URBANISMO</td>\n",
       "      <td>1</td>\n",
       "    </tr>\n",
       "    <tr>\n",
       "      <th>6</th>\n",
       "      <td>URBANIZAÇÃO DE CURITIBA</td>\n",
       "      <td>4</td>\n",
       "    </tr>\n",
       "  </tbody>\n",
       "</table>\n",
       "</div>"
      ],
      "text/plain": [
       "                                    ORGAO  counts\n",
       "0                 FUNDAÇÃO DE AÇÃO SOCIAL     167\n",
       "1      INSTITUTO DAS CIDADES INTELIGENTES   21840\n",
       "2         SECRETARIA DO GOVERNO MUNICIPAL      85\n",
       "3           SECRETARIA MUNICIPAL DA SAÚDE      56\n",
       "4  SECRETARIA MUNICIPAL DE OBRAS PÚBLICAS       1\n",
       "5       SECRETARIA MUNICIPAL DO URBANISMO       1\n",
       "6                 URBANIZAÇÃO DE CURITIBA       4"
      ]
     },
     "execution_count": 11,
     "metadata": {},
     "output_type": "execute_result"
    }
   ],
   "source": [
    "data[['ORGAO']].groupby(['ORGAO']).size().reset_index(name='counts')"
   ]
  },
  {
   "cell_type": "code",
   "execution_count": null,
   "metadata": {},
   "outputs": [],
   "source": []
  }
 ],
 "metadata": {
  "kernelspec": {
   "display_name": "Python 3",
   "language": "python",
   "name": "python3"
  },
  "language_info": {
   "codemirror_mode": {
    "name": "ipython",
    "version": 3
   },
   "file_extension": ".py",
   "mimetype": "text/x-python",
   "name": "python",
   "nbconvert_exporter": "python",
   "pygments_lexer": "ipython3",
   "version": "3.7.4"
  }
 },
 "nbformat": 4,
 "nbformat_minor": 2
}
