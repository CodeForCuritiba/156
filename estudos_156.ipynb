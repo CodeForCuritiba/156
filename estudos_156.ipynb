{
 "cells": [
  {
   "cell_type": "markdown",
   "metadata": {
    "slideshow": {
     "slide_type": "slide"
    }
   },
   "source": [
    "# Curitiba - Base do 156\n",
    "\n",
    "Este é um projeto de análise dos dados da base do 156. Consiste em um importador dos dados, um processador, visualizador e, por último exportando os dados em formato Feather."
   ]
  },
  {
   "cell_type": "code",
   "execution_count": 1,
   "metadata": {},
   "outputs": [
    {
     "name": "stdout",
     "output_type": "stream",
     "text": [
      "INFO: Pandarallel will run on 8 workers.\n",
      "INFO: Pandarallel will use Memory file system to transfer data between the main process and workers.\n"
     ]
    }
   ],
   "source": [
    "import qgrid\n",
    "\n",
    "from pandarallel import pandarallel\n",
    "from datetime import datetime\n",
    "import pandas as pd\n",
    "import matplotlib.pyplot as plt\n",
    "\n",
    "from curitiba156 import get_downloaded_base156\n",
    "\n",
    "pandarallel.initialize(progress_bar=True)"
   ]
  },
  {
   "cell_type": "markdown",
   "metadata": {},
   "source": [
    "# Leitura dos dados\n",
    "Nesse momento os dados são importados por meio da função get_downloaded_base156. Basicamente ele consulta o site do 156, pega o último arquivo CSV e o salva no arquivo `source_data/base_156.csv`. A saída desse comando já entra dentro do pandas por meio do `csv_file` e `encoding`."
   ]
  },
  {
   "cell_type": "code",
   "execution_count": 2,
   "metadata": {},
   "outputs": [
    {
     "name": "stdout",
     "output_type": "stream",
     "text": [
      "Fetching latest base of 156...\n",
      "Latest csv url: http://dadosabertos.c3sl.ufpr.br/curitiba/156/2019-12-01_156_-_Base_de_Dados.csv\n",
      "Downloading File...\n",
      "File Already exists!\n",
      "No download needed.\n",
      "File source_data/base156.csv; Encoding: ISO-8859-1\n"
     ]
    }
   ],
   "source": [
    "csv_file, csv_encoding = get_downloaded_base156()"
   ]
  },
  {
   "cell_type": "code",
   "execution_count": 3,
   "metadata": {},
   "outputs": [],
   "source": [
    "field_names = ['SOLICITACAO', 'TIPO', 'ORGAO', 'DATA',\n",
    "               'HORARIO', 'ASSUNTO', 'SUBDIVISAO', 'DESCRICAO',\n",
    "               'LOGRADOURO_ASS', 'BAIRRO_ASS', 'REGIONAL_ASS',\n",
    "               'MEIO_RESPOSTA', 'OBSERVACAO', 'SEXO', 'BAIRRO_CIDADAO',\n",
    "               'REGIONAL_CIDADAO', 'DATA_NASC', 'TIPO_CIDADAO',\n",
    "               'ORGAO_RESP', 'RESPOSTA_FINAL', 'RESPOSTA_FINAL_DETALHE']\n",
    "\n",
    "data = pd.read_csv(csv_file, sep=';', encoding=csv_encoding, error_bad_lines=False, skiprows=[0,1], names=field_names)"
   ]
  },
  {
   "cell_type": "markdown",
   "metadata": {},
   "source": [
    "# Tratamento dos dados\n",
    "Realizando Tratamento dos dados no dataset. Nesse local será feito limpeza, assim como criação de novos datasets, à partir do primeiro dataset."
   ]
  },
  {
   "cell_type": "code",
   "execution_count": 4,
   "metadata": {},
   "outputs": [
    {
     "data": {
      "application/vnd.jupyter.widget-view+json": {
       "model_id": "90f4435c47244527b4cc3d093f2957d8",
       "version_major": 2,
       "version_minor": 0
      },
      "text/plain": [
       "VBox(children=(HBox(children=(IntProgress(value=0, description='0.00%', max=3231), Label(value='0 / 3231'))), …"
      ]
     },
     "metadata": {},
     "output_type": "display_data"
    }
   ],
   "source": [
    "# Processando data como tipo Datetime\n",
    "data['DATA'] = data['DATA'].str.strip()\n",
    "data['DATA'] = data.parallel_apply(lambda x: datetime.strptime(x['DATA'], '%d/%m/%Y') if type(x['DATA']) is str else None, axis=1)\n"
   ]
  },
  {
   "cell_type": "markdown",
   "metadata": {},
   "source": [
    "# Exibição dos dados\n",
    "O grid a ser exibido usa o QGrid. Ele funciona como uma espécie de Excel."
   ]
  },
  {
   "cell_type": "code",
   "execution_count": 5,
   "metadata": {},
   "outputs": [
    {
     "data": {
      "application/vnd.jupyter.widget-view+json": {
       "model_id": "1289dbeec8d64f72bcaa7c79bea0cfea",
       "version_major": 2,
       "version_minor": 0
      },
      "text/plain": [
       "QgridWidget(grid_options={'fullWidthRows': True, 'syncColumnCellResize': True, 'forceFitColumns': True, 'defau…"
      ]
     },
     "metadata": {},
     "output_type": "display_data"
    }
   ],
   "source": [
    "qgrid.show_grid(data)"
   ]
  },
  {
   "cell_type": "code",
   "execution_count": 6,
   "metadata": {},
   "outputs": [
    {
     "data": {
      "application/vnd.jupyter.widget-view+json": {
       "model_id": "c4251df609d2404fb06dc07e7cb122e5",
       "version_major": 2,
       "version_minor": 0
      },
      "text/plain": [
       "QgridWidget(grid_options={'fullWidthRows': True, 'syncColumnCellResize': True, 'forceFitColumns': True, 'defau…"
      ]
     },
     "metadata": {},
     "output_type": "display_data"
    }
   ],
   "source": [
    "data_orgaos = data[['ORGAO']].groupby(['ORGAO']).size().reset_index(name='counts').sort_values(['counts'], ascending=False)\n",
    "qgrid.show_grid(data_orgaos)"
   ]
  },
  {
   "cell_type": "code",
   "execution_count": 7,
   "metadata": {},
   "outputs": [
    {
     "data": {
      "image/png": "[encoded data removed]",
      "text/plain": [
       "<Figure size 1296x360 with 1 Axes>"
      ]
     },
     "metadata": {
      "needs_background": "light"
     },
     "output_type": "display_data"
    }
   ],
   "source": [
    "data_top_bairros = data.groupby('BAIRRO_ASS')['BAIRRO_ASS'].count().reset_index(name='count').sort_values(['count'], ascending=False).head(18)\n",
    "\n",
    "plt.figure(figsize=(18,5))\n",
    "plt.bar(data_top_bairros['BAIRRO_ASS'], data_top_bairros['count'], align='center', alpha=0.5)\n",
    "\n",
    "for a,b in zip(data_top_bairros['BAIRRO_ASS'], data_top_bairros['count']):\n",
    "    plt.text(a, b, str(b))\n",
    "\n",
    "plt.show()"
   ]
  },
  {
   "cell_type": "markdown",
   "metadata": {},
   "source": [
    "# Exportando dados\n",
    "Todas as bases de dados podem ser exportadas para o formato Feather. Este formato é o mais rápido e será exportado no Github por meio de ferramenta de de Integraçao/Delivery Contínuo."
   ]
  },
  {
   "cell_type": "code",
   "execution_count": 10,
   "metadata": {},
   "outputs": [],
   "source": [
    "data.to_feather(fname='clean_data/data_156.feather')\n",
    "data_top_bairros.reset_index().to_feather(fname='clean_data/data_top_bairros.feather')\n"
   ]
  }
 ],
 "metadata": {
  "kernelspec": {
   "display_name": "Python 3",
   "language": "python",
   "name": "python3"
  },
  "language_info": {
   "codemirror_mode": {
    "name": "ipython",
    "version": 3
   },
   "file_extension": ".py",
   "mimetype": "text/x-python",
   "name": "python",
   "nbconvert_exporter": "python",
   "pygments_lexer": "ipython3",
   "version": "3.7.4"
  }
 },
 "nbformat": 4,
 "nbformat_minor": 4
}
