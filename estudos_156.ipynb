{
 "cells": [
  {
   "cell_type": "markdown",
   "metadata": {
    "slideshow": {
     "slide_type": "slide"
    }
   },
   "source": [
    "# Curitiba - Base do 156\n",
    "\n",
    "Este é um projeto de análise dos dados da base do 156. Consiste em um importador dos dados, um processador, visualizador e, por último exportando os dados em formato Feather."
   ]
  },
  {
   "cell_type": "code",
   "execution_count": 3,
   "metadata": {},
   "outputs": [],
   "source": [
    "import qgrid\n",
    "import matplotlib.pyplot as plt\n",
    "\n",
    "from curitiba_dados_abertos.datasources import DS156"
   ]
  },
  {
   "cell_type": "markdown",
   "metadata": {},
   "source": [
    "# Leitura dos dados\n",
    "Nesse momento os dados são importados por meio da função get_downloaded_base156. Basicamente ele consulta o site do 156, pega o último arquivo CSV e o salva no arquivo `source_data/base_156.csv`. A saída desse comando já entra dentro do pandas por meio do `csv_file` e `encoding`."
   ]
  },
  {
   "cell_type": "code",
   "execution_count": 4,
   "metadata": {},
   "outputs": [],
   "source": [
    "ds156 = DS156()"
   ]
  },
  {
   "cell_type": "code",
   "execution_count": 5,
   "metadata": {},
   "outputs": [],
   "source": [
    "data = ds156.get_pandas_dataframe(date_prefix='2016-09-01')"
   ]
  },
  {
   "cell_type": "code",
   "execution_count": 6,
   "metadata": {},
   "outputs": [
    {
     "data": {
      "text/plain": [
       "['2016-09-01',\n",
       " '2016-10-01',\n",
       " '2016-11-01',\n",
       " '2016-12-01',\n",
       " '2017-01-01',\n",
       " '2017-02-01',\n",
       " '2017-03-01',\n",
       " '2017-04-01',\n",
       " '2017-06-01',\n",
       " '2017-07-01',\n",
       " '2017-08-01',\n",
       " '2017-09-01',\n",
       " '2017-10-01',\n",
       " '2017-11-01',\n",
       " '2017-12-01',\n",
       " '2018-01-01',\n",
       " '2018-02-01',\n",
       " '2018-03-01',\n",
       " '2018-04-01',\n",
       " '2018-04-26',\n",
       " '2018-05-01',\n",
       " '2018-06-01',\n",
       " '2018-07-01',\n",
       " '2018-08-01',\n",
       " '2018-09-01',\n",
       " '2018-10-01',\n",
       " '2018-11-01',\n",
       " '2018-12-01',\n",
       " '2019-01-01',\n",
       " '2019-02-01',\n",
       " '2019-03-01',\n",
       " '2019-04-01',\n",
       " '2019-05-01',\n",
       " '2019-07-01',\n",
       " '2019-08-01',\n",
       " '2019-09-01',\n",
       " '2019-10-01',\n",
       " '2019-11-01',\n",
       " '2019-12-01',\n",
       " '2020-01-01',\n",
       " '2020-02-01']"
      ]
     },
     "execution_count": 6,
     "metadata": {},
     "output_type": "execute_result"
    }
   ],
   "source": [
    "ds156.list_available_items()"
   ]
  },
  {
   "cell_type": "markdown",
   "metadata": {},
   "source": [
    "# Apresentação dos dados\n",
    "## Dado separado por assunto"
   ]
  },
  {
   "cell_type": "code",
   "execution_count": 10,
   "metadata": {},
   "outputs": [
    {
     "data": {
      "application/vnd.jupyter.widget-view+json": {
       "model_id": "777ac502f2ce493390fd6a76ff966f6a",
       "version_major": 2,
       "version_minor": 0
      },
      "text/plain": [
       "QgridWidget(grid_options={'fullWidthRows': True, 'syncColumnCellResize': True, 'forceFitColumns': True, 'defau…"
      ]
     },
     "metadata": {},
     "output_type": "display_data"
    }
   ],
   "source": [
    "data_assunto = data[['ASSUNTO']].groupby(['ASSUNTO']).size().reset_index(name='counts').sort_values(['counts'], ascending=False)\n",
    "qgrid.show_grid(data_assunto)"
   ]
  },
  {
   "cell_type": "markdown",
   "metadata": {},
   "source": [
    "## Organização por tipo de órgão\n"
   ]
  },
  {
   "cell_type": "code",
   "execution_count": 13,
   "metadata": {
    "scrolled": true
   },
   "outputs": [
    {
     "data": {
      "application/vnd.jupyter.widget-view+json": {
       "model_id": "767debc5ebfd4d0e82eb6c026ad263ca",
       "version_major": 2,
       "version_minor": 0
      },
      "text/plain": [
       "QgridWidget(grid_options={'fullWidthRows': True, 'syncColumnCellResize': True, 'forceFitColumns': True, 'defau…"
      ]
     },
     "metadata": {},
     "output_type": "display_data"
    }
   ],
   "source": [
    "data_orgaos = data[['ORGAO']].groupby(['ORGAO']).size().reset_index(name='counts').sort_values(['counts'], ascending=False)\n",
    "qgrid.show_grid(data_orgaos)"
   ]
  },
  {
   "cell_type": "markdown",
   "metadata": {},
   "source": [
    "# Visualização do Grid inteiro"
   ]
  },
  {
   "cell_type": "code",
   "execution_count": 11,
   "metadata": {
    "scrolled": true
   },
   "outputs": [
    {
     "data": {
      "application/vnd.jupyter.widget-view+json": {
       "model_id": "32ffe07dd639448480a1762fa81b6e96",
       "version_major": 2,
       "version_minor": 0
      },
      "text/plain": [
       "QgridWidget(grid_options={'fullWidthRows': True, 'syncColumnCellResize': True, 'forceFitColumns': True, 'defau…"
      ]
     },
     "metadata": {},
     "output_type": "display_data"
    }
   ],
   "source": [
    "qgrid.show_grid(data)"
   ]
  },
  {
   "cell_type": "markdown",
   "metadata": {},
   "source": [
    "## Gráfico de solicitação por Bairro"
   ]
  },
  {
   "cell_type": "code",
   "execution_count": 7,
   "metadata": {},
   "outputs": [
    {
     "data": {
      "image/png": "[encoded data removed]",
      "text/plain": [
       "<Figure size 1296x360 with 1 Axes>"
      ]
     },
     "metadata": {
      "needs_background": "light"
     },
     "output_type": "display_data"
    }
   ],
   "source": [
    "data_top_bairros = data.groupby('BAIRRO_ASS')['BAIRRO_ASS'].count().reset_index(name='count').sort_values(['count'], ascending=False).head(18)\n",
    "\n",
    "plt.figure(figsize=(18,5))\n",
    "plt.bar(data_top_bairros['BAIRRO_ASS'], data_top_bairros['count'], align='center', alpha=0.5)\n",
    "\n",
    "for a,b in zip(data_top_bairros['BAIRRO_ASS'], data_top_bairros['count']):\n",
    "    plt.text(a, b, str(b))\n",
    "\n",
    "plt.show()"
   ]
  }
 ],
 "metadata": {
  "kernelspec": {
   "display_name": "Python 3",
   "language": "python",
   "name": "python3"
  },
  "language_info": {
   "codemirror_mode": {
    "name": "ipython",
    "version": 3
   },
   "file_extension": ".py",
   "mimetype": "text/x-python",
   "name": "python",
   "nbconvert_exporter": "python",
   "pygments_lexer": "ipython3",
   "version": "3.7.4"
  }
 },
 "nbformat": 4,
 "nbformat_minor": 4
}
